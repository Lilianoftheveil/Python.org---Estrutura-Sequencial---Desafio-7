{
 "cells": [
  {
   "cell_type": "code",
   "execution_count": null,
   "id": "f704985c",
   "metadata": {},
   "outputs": [],
   "source": [
    "Python - Lista de Exercícios (Estrutura Sequencial) \n",
    "link: https://wiki.python.org.br/EstruturaSequencial"
   ]
  },
  {
   "cell_type": "markdown",
   "id": "f36f0365",
   "metadata": {},
   "source": [
    "7) Faça um Programa que calcule a área de um quadrado, em seguida mostre o dobro desta área para o usuário."
   ]
  },
  {
   "cell_type": "code",
   "execution_count": null,
   "id": "291025e7",
   "metadata": {},
   "outputs": [],
   "source": [
    "Obs.: Visando desenvolver o programa de forma mais dinâmica e menos suscetível a erros, adicionei \n",
    "outras estruturas no corpo do código. De modo que apenas números, maiores do que zero, sejam aceitos\n",
    "durante sua execução."
   ]
  },
  {
   "cell_type": "code",
   "execution_count": null,
   "id": "eb6d47b6",
   "metadata": {},
   "outputs": [],
   "source": [
    "while True:\n",
    "  x = input(\"Valor de um dos lados do quadrado (base ou altura): \")\n",
    "  try:\n",
    "    float(x)\n",
    "    if float(x) < 0:\n",
    "      print(\"Por favor, digite apenas números positivos.\")\n",
    "      continue\n",
    "    else:\n",
    "      y = round((float(x) ** 2) * 2, 2)\n",
    "      print(f\"O dobro da área deste quadrado é {y}.\")\n",
    "      break\n",
    "  except:\n",
    "    print(\"Por favor, digite apenas números.\")\n",
    "    continue"
   ]
  }
 ],
 "metadata": {
  "kernelspec": {
   "display_name": "Python 3 (ipykernel)",
   "language": "python",
   "name": "python3"
  },
  "language_info": {
   "codemirror_mode": {
    "name": "ipython",
    "version": 3
   },
   "file_extension": ".py",
   "mimetype": "text/x-python",
   "name": "python",
   "nbconvert_exporter": "python",
   "pygments_lexer": "ipython3",
   "version": "3.8.10"
  }
 },
 "nbformat": 4,
 "nbformat_minor": 5
}
